{
 "cells": [
  {
   "cell_type": "code",
   "execution_count": 1,
   "metadata": {
    "ExecuteTime": {
     "end_time": "2020-09-09T18:25:49.088210Z",
     "start_time": "2020-09-09T18:25:48.361871Z"
    }
   },
   "outputs": [],
   "source": [
    "import numpy as np\n",
    "import os\n",
    "import pandas as pd\n",
    "import matplotlib.pyplot as plt\n",
    "from collections import defaultdict\n",
    "import random\n",
    "import time\n",
    "import matplotlib.cm as cm"
   ]
  },
  {
   "cell_type": "code",
   "execution_count": 2,
   "metadata": {
    "ExecuteTime": {
     "end_time": "2020-09-09T18:25:49.097867Z",
     "start_time": "2020-09-09T18:25:49.091177Z"
    }
   },
   "outputs": [],
   "source": [
    "files = [elem for elem in os.listdir() if 'exp' in elem]"
   ]
  },
  {
   "cell_type": "code",
   "execution_count": 3,
   "metadata": {
    "ExecuteTime": {
     "end_time": "2020-09-09T18:25:49.125435Z",
     "start_time": "2020-09-09T18:25:49.102777Z"
    }
   },
   "outputs": [],
   "source": [
    "file = random.choice(files)\n",
    "m = np.load(file)"
   ]
  },
  {
   "cell_type": "code",
   "execution_count": 4,
   "metadata": {
    "ExecuteTime": {
     "end_time": "2020-09-09T18:25:49.133094Z",
     "start_time": "2020-09-09T18:25:49.127963Z"
    }
   },
   "outputs": [],
   "source": [
    "dx = 1"
   ]
  },
  {
   "cell_type": "code",
   "execution_count": 5,
   "metadata": {
    "ExecuteTime": {
     "end_time": "2020-09-09T18:25:49.142389Z",
     "start_time": "2020-09-09T18:25:49.136209Z"
    }
   },
   "outputs": [],
   "source": [
    "r = [dx * elem for elem in range(1,len(m[:300]))]"
   ]
  },
  {
   "cell_type": "code",
   "execution_count": 6,
   "metadata": {
    "ExecuteTime": {
     "end_time": "2020-09-09T18:25:49.156022Z",
     "start_time": "2020-09-09T18:25:49.147158Z"
    }
   },
   "outputs": [],
   "source": [
    "DIM = m.shape[0]"
   ]
  },
  {
   "cell_type": "code",
   "execution_count": 20,
   "metadata": {
    "ExecuteTime": {
     "end_time": "2020-09-09T18:47:47.077427Z",
     "start_time": "2020-09-09T18:45:11.989133Z"
    }
   },
   "outputs": [],
   "source": [
    "n = 10000\n",
    "S2 = []\n",
    "for d in r:\n",
    "    v = np.zeros(n)\n",
    "    for i in range(n):\n",
    "        pos1 = np.random.randint([0,0],[DIM, DIM - d])\n",
    "        pos2 = pos1 + np.array([0,d])\n",
    "        v[i]= m[pos1[0],pos1[1]]*m[pos2[0],pos2[1]]\n",
    "    S2_r = np.mean(v)\n",
    "    S2.append(S2_r)\n",
    "S2 = np.array(S2)"
   ]
  },
  {
   "cell_type": "code",
   "execution_count": 21,
   "metadata": {
    "ExecuteTime": {
     "end_time": "2020-09-09T18:47:47.144853Z",
     "start_time": "2020-09-09T18:47:47.141521Z"
    }
   },
   "outputs": [],
   "source": [
    "D = 27\n",
    "x = [ y/D for y in range(len(S2))]"
   ]
  },
  {
   "cell_type": "code",
   "execution_count": 22,
   "metadata": {
    "ExecuteTime": {
     "end_time": "2020-09-09T18:47:47.424382Z",
     "start_time": "2020-09-09T18:47:47.216606Z"
    },
    "scrolled": true
   },
   "outputs": [
    {
     "data": {
      "text/plain": [
       "[<matplotlib.lines.Line2D at 0x7f2804d6b510>]"
      ]
     },
     "execution_count": 22,
     "metadata": {},
     "output_type": "execute_result"
    },
    {
     "data": {
      "image/png": "[encoded data removed]",
      "text/plain": [
       "<Figure size 432x288 with 1 Axes>"
      ]
     },
     "metadata": {
      "needs_background": "light"
     },
     "output_type": "display_data"
    }
   ],
   "source": [
    "plt.plot(x,S2)"
   ]
  }
 ],
 "metadata": {
  "kernelspec": {
   "display_name": "Python 3",
   "language": "python",
   "name": "python3"
  },
  "language_info": {
   "codemirror_mode": {
    "name": "ipython",
    "version": 3
   },
   "file_extension": ".py",
   "mimetype": "text/x-python",
   "name": "python",
   "nbconvert_exporter": "python",
   "pygments_lexer": "ipython3",
   "version": "3.7.7"
  },
  "latex_envs": {
   "LaTeX_envs_menu_present": true,
   "autoclose": false,
   "autocomplete": true,
   "bibliofile": "biblio.bib",
   "cite_by": "apalike",
   "current_citInitial": 1,
   "eqLabelWithNumbers": true,
   "eqNumInitial": 1,
   "hotkeys": {
    "equation": "Ctrl-E",
    "itemize": "Ctrl-I"
   },
   "labels_anchors": false,
   "latex_user_defs": false,
   "report_style_numbering": false,
   "user_envs_cfg": false
  },
  "varInspector": {
   "cols": {
    "lenName": 16,
    "lenType": 16,
    "lenVar": 40
   },
   "kernels_config": {
    "python": {
     "delete_cmd_postfix": "",
     "delete_cmd_prefix": "del ",
     "library": "var_list.py",
     "varRefreshCmd": "print(var_dic_list())"
    },
    "r": {
     "delete_cmd_postfix": ") ",
     "delete_cmd_prefix": "rm(",
     "library": "var_list.r",
     "varRefreshCmd": "cat(var_dic_list()) "
    }
   },
   "types_to_exclude": [
    "module",
    "function",
    "builtin_function_or_method",
    "instance",
    "_Feature"
   ],
   "window_display": false
  }
 },
 "nbformat": 4,
 "nbformat_minor": 4
}
