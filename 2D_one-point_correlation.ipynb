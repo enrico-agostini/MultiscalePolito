{
 "cells": [
  {
   "cell_type": "code",
   "execution_count": 27,
   "metadata": {},
   "outputs": [],
   "source": [
    "import numpy as np\n",
    "import os\n",
    "import pandas as pd\n",
    "import matplotlib.pyplot as plt"
   ]
  },
  {
   "cell_type": "markdown",
   "metadata": {},
   "source": [
    "### Data description\n",
    "The dataset is composed by a set of 1500 matrices (1002 x 1002 elements) of {0,1}. Each matrix represent a random realization of a 2-d porous media made by packing *impenetrable disks*.\n",
    "\n",
    "Each element of the matrix represent the value of an indicator function $$ I^{i}(x) = \\left\\{\n",
    "    \\begin{array}\\\\\n",
    "        1 & \\mbox{if } \\ x \\in V_{solid} \\\\\n",
    "        0 & \\mbox{if } \\ x \\in V_{void} \\\\\n",
    "    \\end{array}\n",
    "\\right.$$\n",
    "\n",
    "\n",
    "The porosity $ \\phi_i$ is calculated by the 1-point probability $ S_1(x) = \\big \\langle I^{i}(x) \\big \\rangle $, which is the ensable mean over all matrices."
   ]
  },
  {
   "cell_type": "markdown",
   "metadata": {},
   "source": [
    "### Example"
   ]
  },
  {
   "cell_type": "code",
   "execution_count": 3,
   "metadata": {},
   "outputs": [
    {
     "name": "stdout",
     "output_type": "stream",
     "text": [
      "[[0. 0. 0. ... 0. 0. 0.]\n",
      " [0. 0. 1. ... 1. 1. 0.]\n",
      " [0. 1. 1. ... 1. 1. 0.]\n",
      " ...\n",
      " [0. 1. 1. ... 1. 1. 0.]\n",
      " [0. 1. 1. ... 1. 1. 0.]\n",
      " [0. 0. 0. ... 0. 0. 0.]]\n"
     ]
    }
   ],
   "source": [
    "ex = np.load('exp_1316_Mat_G.npy')\n",
    "print(ex)"
   ]
  },
  {
   "cell_type": "code",
   "execution_count": 15,
   "metadata": {},
   "outputs": [
    {
     "name": "stdout",
     "output_type": "stream",
     "text": [
      "phi_i = 0.661\n"
     ]
    }
   ],
   "source": [
    "phi_ex = np.mean(ex)\n",
    "print('phi_i =','{:.3f}'.format(phi_ex))"
   ]
  },
  {
   "cell_type": "markdown",
   "metadata": {},
   "source": [
    "### Analysis"
   ]
  },
  {
   "cell_type": "code",
   "execution_count": 17,
   "metadata": {},
   "outputs": [],
   "source": [
    "dir_list = os.listdir()\n",
    "files = [elem for elem in dir_list if 'exp' in elem]"
   ]
  },
  {
   "cell_type": "code",
   "execution_count": 19,
   "metadata": {},
   "outputs": [],
   "source": [
    "m_means = []\n",
    "for file in files:\n",
    "    m = np.load(file)\n",
    "    m_means.append(np.mean(m))"
   ]
  },
  {
   "cell_type": "code",
   "execution_count": 23,
   "metadata": {},
   "outputs": [],
   "source": [
    "phi_ens = np.mean(m_means)\n",
    "phi_std_dev = np.std(m_means)"
   ]
  },
  {
   "cell_type": "code",
   "execution_count": 25,
   "metadata": {},
   "outputs": [
    {
     "name": "stdout",
     "output_type": "stream",
     "text": [
      "phi_ensable = 0.663\n",
      "the standard deviation is = 0.023\n"
     ]
    }
   ],
   "source": [
    "print('phi_ensable =','{:.3f}'.format(phi_ens))\n",
    "print('the standard deviation is =','{:.3f}'.format(phi_std_dev))"
   ]
  }
 ],
 "metadata": {
  "kernelspec": {
   "display_name": "Python 3",
   "language": "python",
   "name": "python3"
  },
  "language_info": {
   "codemirror_mode": {
    "name": "ipython",
    "version": 3
   },
   "file_extension": ".py",
   "mimetype": "text/x-python",
   "name": "python",
   "nbconvert_exporter": "python",
   "pygments_lexer": "ipython3",
   "version": "3.7.7"
  },
  "latex_envs": {
   "LaTeX_envs_menu_present": true,
   "autoclose": false,
   "autocomplete": true,
   "bibliofile": "biblio.bib",
   "cite_by": "apalike",
   "current_citInitial": 1,
   "eqLabelWithNumbers": true,
   "eqNumInitial": 1,
   "hotkeys": {
    "equation": "Ctrl-E",
    "itemize": "Ctrl-I"
   },
   "labels_anchors": false,
   "latex_user_defs": false,
   "report_style_numbering": false,
   "user_envs_cfg": false
  },
  "varInspector": {
   "cols": {
    "lenName": 16,
    "lenType": 16,
    "lenVar": 40
   },
   "kernels_config": {
    "python": {
     "delete_cmd_postfix": "",
     "delete_cmd_prefix": "del ",
     "library": "var_list.py",
     "varRefreshCmd": "print(var_dic_list())"
    },
    "r": {
     "delete_cmd_postfix": ") ",
     "delete_cmd_prefix": "rm(",
     "library": "var_list.r",
     "varRefreshCmd": "cat(var_dic_list()) "
    }
   },
   "position": {
    "height": "622px",
    "left": "623px",
    "right": "20px",
    "top": "339px",
    "width": "762px"
   },
   "types_to_exclude": [
    "module",
    "function",
    "builtin_function_or_method",
    "instance",
    "_Feature"
   ],
   "window_display": false
  }
 },
 "nbformat": 4,
 "nbformat_minor": 4
}
